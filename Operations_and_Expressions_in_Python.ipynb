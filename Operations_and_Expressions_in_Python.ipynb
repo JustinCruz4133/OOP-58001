{
  "nbformat": 4,
  "nbformat_minor": 0,
  "metadata": {
    "colab": {
      "provenance": [],
      "authorship_tag": "ABX9TyN1rOenfWyzO200QrqJdgg2",
      "include_colab_link": true
    },
    "kernelspec": {
      "name": "python3",
      "display_name": "Python 3"
    },
    "language_info": {
      "name": "python"
    }
  },
  "cells": [
    {
      "cell_type": "markdown",
      "metadata": {
        "id": "view-in-github",
        "colab_type": "text"
      },
      "source": [
        "<a href=\"https://colab.research.google.com/github/JustinCruz4133/OOP-58001/blob/main/Operations_and_Expressions_in_Python.ipynb\" target=\"_parent\"><img src=\"https://colab.research.google.com/assets/colab-badge.svg\" alt=\"Open In Colab\"/></a>"
      ]
    },
    {
      "cell_type": "markdown",
      "source": [
        "Boolean Operators"
      ],
      "metadata": {
        "id": "sVwoAS3ETU4N"
      }
    },
    {
      "cell_type": "code",
      "source": [
        "print(10>9)\n",
        "print(10==9)\n",
        "print(10<9)"
      ],
      "metadata": {
        "id": "eBzVTku1TmVc"
      },
      "execution_count": null,
      "outputs": []
    },
    {
      "cell_type": "markdown",
      "source": [
        "Bool() Function"
      ],
      "metadata": {
        "id": "MRrZhoswUeI0"
      }
    },
    {
      "cell_type": "code",
      "source": [
        "print(bool(\"Maria\"))\n",
        "print(bool(1))\n",
        "print(bool(0))\n",
        "print(bool(None))"
      ],
      "metadata": {
        "id": "7w_EhCTlUokT"
      },
      "execution_count": null,
      "outputs": []
    },
    {
      "cell_type": "markdown",
      "source": [
        "Functions can return a Boolean"
      ],
      "metadata": {
        "id": "Y9WopK3KVPOD"
      }
    },
    {
      "cell_type": "code",
      "source": [
        "def myFunction():\n",
        "  return True\n",
        "\n",
        "print(myFunction())\n",
        "#will display true"
      ],
      "metadata": {
        "id": "N3g1uv2XVT48"
      },
      "execution_count": null,
      "outputs": []
    },
    {
      "cell_type": "markdown",
      "source": [
        "Function (If Else Statement)"
      ],
      "metadata": {
        "id": "Dk36eN1AVytT"
      }
    },
    {
      "cell_type": "code",
      "source": [
        "def myFunction():\n",
        "  return True\n",
        "\n",
        "if myFunction():\n",
        "  print(\"YES!\")\n",
        "else:\n",
        "  print(\"NO!\")\n",
        "\n",
        "#If return value is True = will display YES!\n",
        "#If return value is False = will display NO!"
      ],
      "metadata": {
        "id": "cv5M6cRAWcLL"
      },
      "execution_count": null,
      "outputs": []
    },
    {
      "cell_type": "markdown",
      "source": [
        "You Try!"
      ],
      "metadata": {
        "id": "LD32gw_mXScr"
      }
    },
    {
      "cell_type": "code",
      "source": [
        "print(10>9)\n",
        "\n",
        "a = 6\n",
        "b = 7\n",
        "\n",
        "print(a == b)\n",
        "print(a != b)"
      ],
      "metadata": {
        "id": "XKao6TiQXUkT"
      },
      "execution_count": null,
      "outputs": []
    },
    {
      "cell_type": "markdown",
      "source": [
        "Python Operators"
      ],
      "metadata": {
        "id": "x5g74X76Yd0L"
      }
    },
    {
      "cell_type": "code",
      "source": [
        "print(10 + 5)\n",
        "print(10 - 5)\n",
        "print(10 * 5)\n",
        "print(10 / 5)\n",
        "\n",
        "print(10 % 5)\n",
        "print(10 // 3)\n",
        "print(10 ** 2)"
      ],
      "metadata": {
        "id": "oHIXo6cpYfsa"
      },
      "execution_count": null,
      "outputs": []
    },
    {
      "cell_type": "markdown",
      "source": [
        "Python Bitwise Operators"
      ],
      "metadata": {
        "id": "8-RuLBK-Y8VD"
      }
    },
    {
      "cell_type": "code",
      "source": [
        "a = 60\n",
        "b = 13\n",
        "\n",
        "print(a >> 1)\n",
        "#will display 30\n",
        "print(a << 1)\n",
        "#will display 120\n",
        "print(a & b)\n",
        "#will display 12\n",
        "print(a | b)\n",
        "#will display 61\n",
        "print(~a)\n",
        "#will display -61"
      ],
      "metadata": {
        "id": "x6dtyHcTY-wz"
      },
      "execution_count": null,
      "outputs": []
    },
    {
      "cell_type": "markdown",
      "source": [
        "Python Assignment Operators"
      ],
      "metadata": {
        "id": "V-qgobupZCND"
      }
    },
    {
      "cell_type": "code",
      "source": [
        "x = 5\n",
        "\n",
        "x += 3  #same as x = x + 3\n",
        "print(x)\n",
        "x -= 3 #same as x = x - 3\n",
        "print(x)\n",
        "x *= 3  #same as x = x * 3\n",
        "print(x)\n",
        "x /= 3  #same as x = x / 3\n",
        "print(x)\n",
        "x %= 3  #same as x = x % 3\n",
        "print(x)"
      ],
      "metadata": {
        "id": "Ii-pxbl-ZXGK"
      },
      "execution_count": null,
      "outputs": []
    },
    {
      "cell_type": "markdown",
      "source": [
        "Logical Operators"
      ],
      "metadata": {
        "id": "mAZBmBE8ZXjC"
      }
    },
    {
      "cell_type": "code",
      "source": [
        "#and or xor not\n",
        "\n",
        "a = True\n",
        "b = False\n",
        "\n",
        "print(not a) #will display False\n",
        "print(a and b) #will display False\n",
        "print(not (a and b)) #will display True"
      ],
      "metadata": {
        "id": "2Iph6VOFilYA"
      },
      "execution_count": null,
      "outputs": []
    },
    {
      "cell_type": "markdown",
      "source": [
        "Identity Operator"
      ],
      "metadata": {
        "id": "cud3E42SioPo"
      }
    },
    {
      "cell_type": "code",
      "source": [
        "a = True\n",
        "b = False\n",
        "\n",
        "print(a is a) #will display True\n",
        "print(a is not b) #will display True\n",
        "print(a is b) #will display False"
      ],
      "metadata": {
        "id": "DM6qzUnmiqOf"
      },
      "execution_count": null,
      "outputs": []
    }
  ]
}