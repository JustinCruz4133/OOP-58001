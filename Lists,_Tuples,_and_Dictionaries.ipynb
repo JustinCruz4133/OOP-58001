{
  "nbformat": 4,
  "nbformat_minor": 0,
  "metadata": {
    "colab": {
      "provenance": [],
      "authorship_tag": "ABX9TyNzNYstDgr1Fvu7a+OliOYC",
      "include_colab_link": true
    },
    "kernelspec": {
      "name": "python3",
      "display_name": "Python 3"
    },
    "language_info": {
      "name": "python"
    }
  },
  "cells": [
    {
      "cell_type": "markdown",
      "metadata": {
        "id": "view-in-github",
        "colab_type": "text"
      },
      "source": [
        "<a href=\"https://colab.research.google.com/github/JustinCruz4133/OOP-58001/blob/main/Lists%2C_Tuples%2C_and_Dictionaries.ipynb\" target=\"_parent\"><img src=\"https://colab.research.google.com/assets/colab-badge.svg\" alt=\"Open In Colab\"/></a>"
      ]
    },
    {
      "cell_type": "markdown",
      "source": [
        "Functions"
      ],
      "metadata": {
        "id": "jmgWhewGHHu1"
      }
    },
    {
      "cell_type": "code",
      "execution_count": null,
      "metadata": {
        "id": "jF75z2PXHFoW"
      },
      "outputs": [],
      "source": [
        "class shapes:\n",
        "  def __init__(self, length, width):\n",
        "    self.length = length\n",
        "    self.width = width\n",
        "  \n",
        "  def area(self):\n",
        "    return self.length * self.width\n",
        "\n",
        "rectangle = shapes(10, 5)\n",
        "\n",
        "rectangle.area()"
      ]
    },
    {
      "cell_type": "code",
      "source": [
        "#Create your own function that will show your full name and ag\n",
        "#Use Person as class name\n",
        "\n",
        "class person:\n",
        "  def __init__(self, name, age):\n",
        "    self.name = name\n",
        "    self.age = age\n",
        "  \n",
        "  def info(self):\n",
        "    return self.name + self.age\n",
        "\n",
        "user = person(\"Justin Cruz:\", \" 19 Years old\")\n",
        "\n",
        "user.info()"
      ],
      "metadata": {
        "id": "cMH6ysQbN9jN"
      },
      "execution_count": null,
      "outputs": []
    },
    {
      "cell_type": "markdown",
      "source": [
        "List"
      ],
      "metadata": {
        "id": "4JklSJHlUvHz"
      }
    },
    {
      "cell_type": "code",
      "source": [
        "pi = 3.14159\n",
        "varList = [\"abc\", 1, \"def\", 2]\n",
        "print(varList[0])\n",
        "\n",
        "varList.append(\"ghl\")\n",
        "print(varList)\n",
        "varList.remove(2)\n",
        "print(varList)\n",
        "\n",
        "varList.insert(3, 3)\n",
        "print(varList)"
      ],
      "metadata": {
        "colab": {
          "base_uri": "https://localhost:8080/"
        },
        "id": "ziwlGIJuT63l",
        "outputId": "73feb625-d699-4573-b472-a6f6d91554a7"
      },
      "execution_count": 19,
      "outputs": [
        {
          "output_type": "stream",
          "name": "stdout",
          "text": [
            "abc\n",
            "['abc', 1, 'def', 2, 'ghl']\n",
            "['abc', 1, 'def', 'ghl']\n",
            "['abc', 1, 'def', 3, 'ghl']\n"
          ]
        }
      ]
    },
    {
      "cell_type": "markdown",
      "source": [
        "Dictionaries"
      ],
      "metadata": {
        "id": "PFN1Gx_tV_C9"
      }
    },
    {
      "cell_type": "code",
      "source": [
        "students = {\n",
        "    1: \"ana\",\n",
        "    2: \"billy\",\n",
        "    3: \"maria\",\n",
        "    4: \"joy\",\n",
        "    3: \"bessy\"\n",
        "}\n",
        "print(students)"
      ],
      "metadata": {
        "colab": {
          "base_uri": "https://localhost:8080/"
        },
        "id": "1Mpx85TuWGOE",
        "outputId": "fd306cf5-1a3b-4a9e-8271-dbe8e9a84c7c"
      },
      "execution_count": 21,
      "outputs": [
        {
          "output_type": "stream",
          "name": "stdout",
          "text": [
            "{1: 'ana', 2: 'billy', 3: 'bessy', 4: 'joy'}\n"
          ]
        }
      ]
    }
  ]
}