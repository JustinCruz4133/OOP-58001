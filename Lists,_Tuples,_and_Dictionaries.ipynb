{
  "nbformat": 4,
  "nbformat_minor": 0,
  "metadata": {
    "colab": {
      "provenance": [],
      "authorship_tag": "ABX9TyPWwMcKZBNG15mX8/W8pFan",
      "include_colab_link": true
    },
    "kernelspec": {
      "name": "python3",
      "display_name": "Python 3"
    },
    "language_info": {
      "name": "python"
    }
  },
  "cells": [
    {
      "cell_type": "markdown",
      "metadata": {
        "id": "view-in-github",
        "colab_type": "text"
      },
      "source": [
        "<a href=\"https://colab.research.google.com/github/JustinCruz4133/OOP-58001/blob/main/Lists%2C_Tuples%2C_and_Dictionaries.ipynb\" target=\"_parent\"><img src=\"https://colab.research.google.com/assets/colab-badge.svg\" alt=\"Open In Colab\"/></a>"
      ]
    },
    {
      "cell_type": "markdown",
      "source": [
        "Functions"
      ],
      "metadata": {
        "id": "jmgWhewGHHu1"
      }
    },
    {
      "cell_type": "code",
      "execution_count": null,
      "metadata": {
        "id": "jF75z2PXHFoW"
      },
      "outputs": [],
      "source": [
        "class shapes:\n",
        "  def __init__(self, length, width):\n",
        "    self.length = length\n",
        "    self.width = width\n",
        "  \n",
        "  def area(self):\n",
        "    return self.length * self.width\n",
        "\n",
        "rectangle = shapes(10, 5)\n",
        "\n",
        "rectangle.area()"
      ]
    },
    {
      "cell_type": "code",
      "source": [
        "#Create your own function that will show your full name and ag\n",
        "#Use Person as class name\n",
        "\n",
        "class person:\n",
        "  def __init__(self, name, age):\n",
        "    self.name = name\n",
        "    self.age = age\n",
        "  \n",
        "  def info(self):\n",
        "    return self.name + self.age\n",
        "\n",
        "user = person(\"Justin Cruz:\", \" 19 Years old\")\n",
        "\n",
        "user.info()"
      ],
      "metadata": {
        "id": "cMH6ysQbN9jN"
      },
      "execution_count": null,
      "outputs": []
    }
  ]
}