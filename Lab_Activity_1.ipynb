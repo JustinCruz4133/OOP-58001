{
  "nbformat": 4,
  "nbformat_minor": 0,
  "metadata": {
    "colab": {
      "provenance": [],
      "authorship_tag": "ABX9TyNRTPHJAR+BpwqZEpN5O+2S",
      "include_colab_link": true
    },
    "kernelspec": {
      "name": "python3",
      "display_name": "Python 3"
    },
    "language_info": {
      "name": "python"
    }
  },
  "cells": [
    {
      "cell_type": "markdown",
      "metadata": {
        "id": "view-in-github",
        "colab_type": "text"
      },
      "source": [
        "<a href=\"https://colab.research.google.com/github/JustinCruz4133/OOP-58001/blob/main/Lab_Activity_1.ipynb\" target=\"_parent\"><img src=\"https://colab.research.google.com/assets/colab-badge.svg\" alt=\"Open In Colab\"/></a>"
      ]
    },
    {
      "cell_type": "code",
      "execution_count": 3,
      "metadata": {
        "colab": {
          "base_uri": "https://localhost:8080/"
        },
        "id": "Ik1eRGHbHYjo",
        "outputId": "f6d68eb4-ccd6-4d7c-d6f8-b0a13cc9e357"
      },
      "outputs": [
        {
          "output_type": "stream",
          "name": "stdout",
          "text": [
            "sum = 210\n",
            "Average = 10.5\n"
          ]
        }
      ],
      "source": [
        "#Lab Activity 1\n",
        "\n",
        "n = 20\n",
        "total_numbers = n\n",
        "sum = 0\n",
        "average = 0\n",
        "\n",
        "while n >= 0:\n",
        "  sum += n\n",
        "  n -= 1\n",
        "else:\n",
        "  print(\"sum =\", sum)\n",
        "\n",
        "average = sum/total_numbers\n",
        "print(\"Average =\", average)"
      ]
    }
  ]
}