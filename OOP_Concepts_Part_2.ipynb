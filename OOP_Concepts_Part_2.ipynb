{
  "nbformat": 4,
  "nbformat_minor": 0,
  "metadata": {
    "colab": {
      "provenance": [],
      "authorship_tag": "ABX9TyNdma+0omrYQNyyrfy9abXI",
      "include_colab_link": true
    },
    "kernelspec": {
      "name": "python3",
      "display_name": "Python 3"
    },
    "language_info": {
      "name": "python"
    }
  },
  "cells": [
    {
      "cell_type": "markdown",
      "metadata": {
        "id": "view-in-github",
        "colab_type": "text"
      },
      "source": [
        "<a href=\"https://colab.research.google.com/github/JustinCruz4133/OOP-58001/blob/main/OOP_Concepts_Part_2.ipynb\" target=\"_parent\"><img src=\"https://colab.research.google.com/assets/colab-badge.svg\" alt=\"Open In Colab\"/></a>"
      ]
    },
    {
      "cell_type": "code",
      "execution_count": 1,
      "metadata": {
        "colab": {
          "base_uri": "https://localhost:8080/"
        },
        "id": "7-dynqMLWyGb",
        "outputId": "8caf6186-2de6-4aae-c77b-aed770aba5dc"
      },
      "outputs": [
        {
          "output_type": "stream",
          "name": "stdout",
          "text": [
            "Griffon Vulture flies above clouds\n",
            "Common Crane flies above clouds\n",
            "Emu is the national bird of the Philippines\n"
          ]
        }
      ],
      "source": [
        "#Class With Multiple Objects\n",
        "class Birds:\n",
        "  def __init__(self, bird_name):\n",
        "    self.bird_name = bird_name\n",
        "  def flying_birds(self):\n",
        "    print(f\"{self.bird_name} flies above clouds\")\n",
        "  def non_flying_birds(self):\n",
        "    print(f\"{self.bird_name} is the national bird of the Philippines\")\n",
        "\n",
        "vulture = Birds(\"Griffon Vulture\")\n",
        "crane = Birds(\"Common Crane\")\n",
        "emu = Birds(\"Emu\")\n",
        "\n",
        "vulture.flying_birds()\n",
        "crane.flying_birds()\n",
        "emu.non_flying_birds()"
      ]
    },
    {
      "cell_type": "code",
      "source": [
        "class foo:\n",
        "  def __init__(self, a, b):\n",
        "    self.a = a\n",
        "    self.b = b\n",
        "\n",
        "  def add(self):\n",
        "    return self.a + self.b\n",
        "\n",
        "foo_object = foo(3, 4)\n",
        "foo_object.add()"
      ],
      "metadata": {
        "colab": {
          "base_uri": "https://localhost:8080/"
        },
        "id": "S9xCckN3Y-b0",
        "outputId": "f028eb63-ad2a-48a7-bee2-f94bc3714652"
      },
      "execution_count": 3,
      "outputs": [
        {
          "output_type": "execute_result",
          "data": {
            "text/plain": [
              "7"
            ]
          },
          "metadata": {},
          "execution_count": 3
        }
      ]
    },
    {
      "cell_type": "code",
      "source": [
        "#Encapsulation\n",
        "#mangling using double underscore\n",
        "class foo:\n",
        "  def __init__(self, a, b):\n",
        "    self.__a = a\n",
        "    self.__b = b\n",
        "\n",
        "  def add(self):\n",
        "    return self.__a + self.__b\n",
        "\n",
        "foo_object = foo(3, 4)\n",
        "foo_object.add()\n",
        "foo_object.a = 5\n",
        "foo_object.add()"
      ],
      "metadata": {
        "colab": {
          "base_uri": "https://localhost:8080/"
        },
        "id": "Jd2agOy7ZtHN",
        "outputId": "17ef4d1e-2255-472d-897c-fe35744295aa"
      },
      "execution_count": 4,
      "outputs": [
        {
          "output_type": "execute_result",
          "data": {
            "text/plain": [
              "7"
            ]
          },
          "metadata": {},
          "execution_count": 4
        }
      ]
    },
    {
      "cell_type": "code",
      "source": [
        "class Counter:\n",
        "  def __init__(self):\n",
        "    self.current = 0\n",
        "  \n",
        "  def increment(self):\n",
        "    self.current += 1\n",
        "\n",
        "  def value(self):\n",
        "    return self.current\n",
        "\n",
        "  def reset(self):\n",
        "    self.current = 0"
      ],
      "metadata": {
        "id": "ruIVQ92Yb9xP"
      },
      "execution_count": null,
      "outputs": []
    },
    {
      "cell_type": "code",
      "source": [
        "#Inheritance\n",
        "class Person:                 #Super class\n",
        "  def __init__(self, name, birthdate):\n",
        "    self.name = name\n",
        "    self.birthdate = birthdate\n",
        "  def display(self):\n",
        "    print(f\"My name is {self.name}\")\n",
        "    print(f\"My birthdate is {self.birthdate}\")\n",
        "\n",
        "class Student(Person):     #Sub class\n",
        "  pass\n",
        "\n",
        "class Teacher(Person):     #Sub class\n",
        "  pass\n",
        "\n",
        "student = Student(\"Justin\", \"April 13, 2003\")\n",
        "student.display()\n",
        "\n",
        "teacher = Teacher(\"Ana\", \"February 14, 1990\")\n",
        "teacher.display()"
      ],
      "metadata": {
        "colab": {
          "base_uri": "https://localhost:8080/"
        },
        "id": "r0SFdNKtd7Be",
        "outputId": "6d31a8bd-4fa9-4b1b-e7d0-3f9915de4c2d"
      },
      "execution_count": 14,
      "outputs": [
        {
          "output_type": "stream",
          "name": "stdout",
          "text": [
            "My name is Justin\n",
            "My birthdate is April 13, 2003\n",
            "My name is Ana\n",
            "My birthdate is February 14, 1990\n"
          ]
        }
      ]
    },
    {
      "cell_type": "code",
      "source": [
        "# create a class name Shapes (5 shapes)\n",
        "# attributes sides\n",
        "# create a funtion/method that displays the no. of sides of each shapes\n",
        "# apply inheritance and encaptulation\n",
        "\n",
        "\n",
        "class Shapes:\n",
        "  def __init__(self, name, sides):\n",
        "    self.__name = name\n",
        "    self.__sides = sides\n",
        "\n",
        "  def display(self):\n",
        "    print(f\"Name: {self.__name}\")\n",
        "    print(f\"No. of Sides: {self.__sides}\\n\")\n",
        "\n",
        "class Triangle(Shapes):\n",
        "  pass\n",
        "class Quadrilateral(Shapes):\n",
        "  pass\n",
        "class Pentagon(Shapes):\n",
        "  pass\n",
        "class Hexagon(Shapes):\n",
        "  pass\n",
        "class Heptagon(Shapes):\n",
        "  pass\n",
        "\n",
        "object = Triangle(\"Triangle\", 3)\n",
        "object.display()\n",
        "\n",
        "object = Quadrilateral(\"Quadrilateral\", 4)\n",
        "object.display()\n",
        "\n",
        "object = Pentagon(\"Pentagon\", 5)\n",
        "object.display()\n",
        "\n",
        "object = Hexagon(\"Hexagon\", 6)\n",
        "object.display()\n",
        "\n",
        "object = Heptagon(\"Heptagon\", 7)\n",
        "object.display()\n",
        "\n",
        "object.name = \"Decagon\"\n",
        "object.sides = 10\n",
        "object.display()"
      ],
      "metadata": {
        "colab": {
          "base_uri": "https://localhost:8080/"
        },
        "id": "7rM7tWUtgiIw",
        "outputId": "f1d38d22-5226-4676-cc09-8c658cae566e"
      },
      "execution_count": 25,
      "outputs": [
        {
          "output_type": "stream",
          "name": "stdout",
          "text": [
            "Name: Triangle\n",
            "No. of Sides: 3\n",
            "\n",
            "Name: Quadrilateral\n",
            "No. of Sides: 4\n",
            "\n",
            "Name: Pentagon\n",
            "No. of Sides: 5\n",
            "\n",
            "Name: Hexagon\n",
            "No. of Sides: 6\n",
            "\n",
            "Name: Heptagon\n",
            "No. of Sides: 7\n",
            "\n",
            "Name: Heptagon\n",
            "No. of Sides: 7\n",
            "\n"
          ]
        }
      ]
    }
  ]
}