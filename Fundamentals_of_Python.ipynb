{
  "nbformat": 4,
  "nbformat_minor": 0,
  "metadata": {
    "colab": {
      "provenance": [],
      "authorship_tag": "ABX9TyNir38ybcD3TSpaClBhJDdT",
      "include_colab_link": true
    },
    "kernelspec": {
      "name": "python3",
      "display_name": "Python 3"
    },
    "language_info": {
      "name": "python"
    }
  },
  "cells": [
    {
      "cell_type": "markdown",
      "metadata": {
        "id": "view-in-github",
        "colab_type": "text"
      },
      "source": [
        "<a href=\"https://colab.research.google.com/github/JustinCruz4133/OOP-58001/blob/main/Fundamentals_of_Python.ipynb\" target=\"_parent\"><img src=\"https://colab.research.google.com/assets/colab-badge.svg\" alt=\"Open In Colab\"/></a>"
      ]
    },
    {
      "cell_type": "markdown",
      "source": [
        "Indentation"
      ],
      "metadata": {
        "id": "K6IFEiOWRMGT"
      }
    },
    {
      "cell_type": "code",
      "source": [
        "if 5>2:\n",
        "  print(\"5 is greater than 2\")"
      ],
      "metadata": {
        "id": "pE614J2uR-cZ"
      },
      "execution_count": null,
      "outputs": []
    },
    {
      "cell_type": "markdown",
      "source": [
        "Python Comment"
      ],
      "metadata": {
        "id": "NG6FnZ1cSVdP"
      }
    },
    {
      "cell_type": "code",
      "source": [
        "#This is a comment\n",
        "print(\"Hello, world\")"
      ],
      "metadata": {
        "id": "nV2hb5XoSZhZ"
      },
      "execution_count": null,
      "outputs": []
    },
    {
      "cell_type": "markdown",
      "source": [
        "Python Variable"
      ],
      "metadata": {
        "id": "brvg5MQPStaB"
      }
    },
    {
      "cell_type": "code",
      "source": [
        "x = 1\n",
        "\n",
        "#single variable with multiple values\n",
        "array = [1, 2, 3]\n",
        "print(array)\n",
        "\n",
        "#multiple variables with single value\n",
        "a = b = c = \"Maria\"\n",
        "print(a)\n",
        "print(b)\n",
        "print(c)"
      ],
      "metadata": {
        "id": "VmfQM0X_TSIy"
      },
      "execution_count": null,
      "outputs": []
    },
    {
      "cell_type": "markdown",
      "source": [
        "Casting"
      ],
      "metadata": {
        "id": "VAvR1XZUUwNh"
      }
    },
    {
      "cell_type": "code",
      "source": [
        "n = int(4)\n",
        "print(n)\n"
      ],
      "metadata": {
        "id": "nBlksVJAU2SZ"
      },
      "execution_count": null,
      "outputs": []
    },
    {
      "cell_type": "markdown",
      "source": [
        "Type Function"
      ],
      "metadata": {
        "id": "OJT3xwZlVFw5"
      }
    },
    {
      "cell_type": "code",
      "source": [
        "c = \"sally\"\n",
        "d = 5.6\n",
        "\n",
        "print(type(c))\n",
        "print(type(d))"
      ],
      "metadata": {
        "id": "qIinueGxVIaR"
      },
      "execution_count": null,
      "outputs": []
    },
    {
      "cell_type": "markdown",
      "source": [
        "\"Double quotes\" or 'Single quotes'"
      ],
      "metadata": {
        "id": "zd-T3x5Wf0VN"
      }
    },
    {
      "cell_type": "code",
      "source": [
        "y = \"John\"\n",
        "y = 'John'\n",
        "\n",
        "print(y)"
      ],
      "metadata": {
        "id": "RhNp98QAf6sN"
      },
      "execution_count": null,
      "outputs": []
    },
    {
      "cell_type": "markdown",
      "source": [
        "Case Sensitive"
      ],
      "metadata": {
        "id": "Sm78TnIggHBk"
      }
    },
    {
      "cell_type": "code",
      "source": [
        "a = 4\n",
        "A = \"Sally\"\n",
        "#A will not overwrite a\n",
        "\n",
        "print(a)\n",
        "print(A)"
      ],
      "metadata": {
        "id": "ElHKPyyjgSol"
      },
      "execution_count": null,
      "outputs": []
    },
    {
      "cell_type": "markdown",
      "source": [
        "Multiple Variables"
      ],
      "metadata": {
        "id": "KDp3-VPMgjgW"
      }
    },
    {
      "cell_type": "code",
      "source": [
        "x, y, z = \"one\", \"two\", \"three\"\n",
        "\n",
        "print(x)\n",
        "print(y)\n",
        "print(z)"
      ],
      "metadata": {
        "id": "bVelHaYpgl8d"
      },
      "execution_count": null,
      "outputs": []
    },
    {
      "cell_type": "markdown",
      "source": [
        "One Value to Multiple Variables"
      ],
      "metadata": {
        "id": "7sr8EHfwgzjN"
      }
    },
    {
      "cell_type": "code",
      "source": [
        "x = y = z = \"four\"\n",
        "\n",
        "print(x)\n",
        "print(y)\n",
        "print(z)"
      ],
      "metadata": {
        "id": "E-GqwMgUg2rE"
      },
      "execution_count": null,
      "outputs": []
    },
    {
      "cell_type": "markdown",
      "source": [
        "Output Variables"
      ],
      "metadata": {
        "id": "uk2_eEoIg_m9"
      }
    },
    {
      "cell_type": "code",
      "source": [
        "x = \"enjoying\"\n",
        "print(\"Python programming is \" + x)\n",
        "\n",
        "#Other way:\n",
        "x = \"Python is \"\n",
        "y = \"enjoying\"\n",
        "z = x + y\n",
        "\n",
        "print(z)"
      ],
      "metadata": {
        "id": "T4j_LlEQhEek"
      },
      "execution_count": null,
      "outputs": []
    },
    {
      "cell_type": "markdown",
      "source": [
        "Arithmetic Operations"
      ],
      "metadata": {
        "id": "kRLBrTfAhRq8"
      }
    },
    {
      "cell_type": "code",
      "source": [
        "x = 5\n",
        "y = 3\n",
        "\n",
        "print(x + y)\n",
        "\n",
        "x = 5\n",
        "y = 3\n",
        "sum = x + y\n",
        "\n",
        "print(sum)"
      ],
      "metadata": {
        "id": "op-B0Uwrhou1"
      },
      "execution_count": null,
      "outputs": []
    },
    {
      "cell_type": "markdown",
      "source": [
        "Assignment Operators"
      ],
      "metadata": {
        "id": "9DHeAPg3h6Ac"
      }
    },
    {
      "cell_type": "code",
      "source": [
        "a, b, c = 0, -1, 6\n",
        "c %= 3\n",
        "\n",
        "print(c)"
      ],
      "metadata": {
        "id": "PeLKe6IVh9nE"
      },
      "execution_count": null,
      "outputs": []
    },
    {
      "cell_type": "markdown",
      "source": [
        "Comparison Operators & Logical operators"
      ],
      "metadata": {
        "id": "an5hKGgEiKfM"
      }
    },
    {
      "cell_type": "code",
      "source": [
        "a, b, c = 0, -1, 6\n",
        "a > b and c > b\n",
        "#will display True"
      ],
      "metadata": {
        "id": "dyv2iWqMiaD8"
      },
      "execution_count": null,
      "outputs": []
    },
    {
      "cell_type": "markdown",
      "source": [
        "Identity Operators"
      ],
      "metadata": {
        "id": "fypvAYYtisoF"
      }
    },
    {
      "cell_type": "code",
      "source": [
        "a, b, c = 0, -1, 5\n",
        "a is c\n",
        "#will display False"
      ],
      "metadata": {
        "id": "ekh-7t_Yivis"
      },
      "execution_count": null,
      "outputs": []
    }
  ]
}