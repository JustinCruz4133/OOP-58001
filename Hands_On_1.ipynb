{
  "nbformat": 4,
  "nbformat_minor": 0,
  "metadata": {
    "colab": {
      "provenance": [],
      "authorship_tag": "ABX9TyPp7vyOyCU58eSFDCdJH/H+",
      "include_colab_link": true
    },
    "kernelspec": {
      "name": "python3",
      "display_name": "Python 3"
    },
    "language_info": {
      "name": "python"
    }
  },
  "cells": [
    {
      "cell_type": "markdown",
      "metadata": {
        "id": "view-in-github",
        "colab_type": "text"
      },
      "source": [
        "<a href=\"https://colab.research.google.com/github/JustinCruz4133/OOP-58001/blob/main/Hands_On_1.ipynb\" target=\"_parent\"><img src=\"https://colab.research.google.com/assets/colab-badge.svg\" alt=\"Open In Colab\"/></a>"
      ]
    },
    {
      "cell_type": "code",
      "execution_count": null,
      "metadata": {
        "id": "VXH-cVtkZYma"
      },
      "outputs": [],
      "source": [
        "class RegularPolygon:\n",
        "  def __init__(self, side):\n",
        "    self.side = side\n",
        "class Square(RegularPolygon):\n",
        "  def area(self):\n",
        "    return self.side * self.side\n",
        "class EquilateralTriangle(RegularPolygon):\n",
        "  def area(self):\n",
        "    return self.side * self.side * 0.433"
      ]
    },
    {
      "cell_type": "code",
      "source": [
        "class Person:\n",
        "  def __init__(self, std, pre, mid, fin):\n",
        "    self.__std = std\n",
        "    self.__pre = pre\n",
        "    self.__mid = mid\n",
        "    self.__fin = fin\n",
        "  \n",
        "  def Grade(self):\n",
        "    return (self.__pre + self.__mid + self.__fin)/3\n",
        "\n",
        "  def Display(self):\n",
        "    print(f\"Student: {self.__std}\\n\")\n",
        "    print(f\"Prelim Grade: {self.__pre}\")\n",
        "    print(f\"Midterm Grade: {self.__mid}\")\n",
        "    print(f\"Final Grade: {self.__fin}\\n\")\n",
        "    print(f\"Average Grade: {round(self.Grade(), 2)}\\n\\n\")\n",
        "\n",
        "class Student1(Person):\n",
        "  pass\n",
        "class Student2(Person):\n",
        "  pass\n",
        "class Student3(Person):\n",
        "  pass\n",
        "\n",
        "justin = Student1(\"Justin\", 90, 92, 94)\n",
        "justin.Display()\n",
        "\n",
        "chloe = Student2(\"Chloe\", 95, 89, 97)\n",
        "chloe.Display()\n",
        "\n",
        "asher = Student3(\"Asher\", 98, 97, 98)\n",
        "asher.Display()\n"
      ],
      "metadata": {
        "colab": {
          "base_uri": "https://localhost:8080/"
        },
        "id": "GalkpNpYadkG",
        "outputId": "e3014dbd-f945-40db-e5d8-244db17202ba"
      },
      "execution_count": 8,
      "outputs": [
        {
          "output_type": "stream",
          "name": "stdout",
          "text": [
            "Student: Justin\n",
            "\n",
            "Prelim Grade: 90\n",
            "Midterm Grade: 92\n",
            "Final Grade: 94\n",
            "\n",
            "Average Grade: 92.0\n",
            "\n",
            "\n",
            "Student: Chloe\n",
            "\n",
            "Prelim Grade: 95\n",
            "Midterm Grade: 89\n",
            "Final Grade: 97\n",
            "\n",
            "Average Grade: 93.67\n",
            "\n",
            "\n",
            "Student: Asher\n",
            "\n",
            "Prelim Grade: 98\n",
            "Midterm Grade: 97\n",
            "Final Grade: 98\n",
            "\n",
            "Average Grade: 97.67\n",
            "\n",
            "\n"
          ]
        }
      ]
    }
  ]
}