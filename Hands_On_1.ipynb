{
  "nbformat": 4,
  "nbformat_minor": 0,
  "metadata": {
    "colab": {
      "provenance": [],
      "authorship_tag": "ABX9TyM95A8GiSktPt44R1L5fShD",
      "include_colab_link": true
    },
    "kernelspec": {
      "name": "python3",
      "display_name": "Python 3"
    },
    "language_info": {
      "name": "python"
    }
  },
  "cells": [
    {
      "cell_type": "markdown",
      "metadata": {
        "id": "view-in-github",
        "colab_type": "text"
      },
      "source": [
        "<a href=\"https://colab.research.google.com/github/JustinCruz4133/OOP-58001/blob/main/Hands_On_1.ipynb\" target=\"_parent\"><img src=\"https://colab.research.google.com/assets/colab-badge.svg\" alt=\"Open In Colab\"/></a>"
      ]
    },
    {
      "cell_type": "code",
      "execution_count": null,
      "metadata": {
        "id": "VXH-cVtkZYma"
      },
      "outputs": [],
      "source": [
        "class RegularPolygon:\n",
        "  def __init__(self, side):\n",
        "    self.side = side\n",
        "class Square(RegularPolygon):\n",
        "  def area(self):\n",
        "    return self.side * self.side\n",
        "class EquilateralTriangle(RegularPolygon):\n",
        "  def area(self):\n",
        "    return self.side * self.side * 0.433"
      ]
    },
    {
      "cell_type": "code",
      "source": [
        "class Person:\n",
        "  def __init__(self, std, pre, mid, fin):\n",
        "    self.__std = std\n",
        "    self.__pre = pre\n",
        "    self.__mid = mid\n",
        "    self.__fin = fin\n",
        "  \n",
        "  def Grade(self):\n",
        "    return (self.__pre + self.__mid + self.__fin)/3\n",
        "\n",
        "  def display(self):\n",
        "    print(f\"Student: {self.__std}\\n\")\n",
        "    print(f\"Prelim Grade: {self.__pre}\")\n",
        "    print(f\"Midterm Grade: {self.__mid}\")\n",
        "    print(f\"Final Grade: {self.__fin}\\n\")\n",
        "    print(f\"Average Grade: {round(self.Grade(), 2)}\\n\\n\")\n",
        "\n",
        "class Student1(Person):\n",
        "  pass\n",
        "class Student2(Person):\n",
        "  pass\n",
        "class Student3(Person):\n",
        "  pass\n",
        "\n",
        "std1 = Student1(\"Student 1\", 90, 92, 94)\n",
        "std1.display()\n",
        "\n",
        "std2 = Student2(\"Student 2\", 95, 89, 97)\n",
        "std2.display()\n",
        "\n",
        "std3 = Student3(\"Student 3\", 98, 97, 98)\n",
        "std3.display()\n",
        "\n",
        "std2.std = \"JUSTIN\"\n",
        "std2.pre = 50\n",
        "std2.mid = 40\n",
        "std2.fin = 30\n",
        "std2.display()\n"
      ],
      "metadata": {
        "colab": {
          "base_uri": "https://localhost:8080/"
        },
        "id": "GalkpNpYadkG",
        "outputId": "3ea613a4-2549-4245-90b9-988b14b4a285"
      },
      "execution_count": 13,
      "outputs": [
        {
          "output_type": "stream",
          "name": "stdout",
          "text": [
            "Student: Student 1\n",
            "\n",
            "Prelim Grade: 90\n",
            "Midterm Grade: 92\n",
            "Final Grade: 94\n",
            "\n",
            "Average Grade: 92.0\n",
            "\n",
            "\n",
            "Student: Student 2\n",
            "\n",
            "Prelim Grade: 95\n",
            "Midterm Grade: 89\n",
            "Final Grade: 97\n",
            "\n",
            "Average Grade: 93.67\n",
            "\n",
            "\n",
            "Student: Student 3\n",
            "\n",
            "Prelim Grade: 98\n",
            "Midterm Grade: 97\n",
            "Final Grade: 98\n",
            "\n",
            "Average Grade: 97.67\n",
            "\n",
            "\n",
            "Student: Student 2\n",
            "\n",
            "Prelim Grade: 95\n",
            "Midterm Grade: 89\n",
            "Final Grade: 97\n",
            "\n",
            "Average Grade: 93.67\n",
            "\n",
            "\n"
          ]
        }
      ]
    }
  ]
}