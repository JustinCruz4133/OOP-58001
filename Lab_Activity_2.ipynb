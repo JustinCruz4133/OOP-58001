{
  "nbformat": 4,
  "nbformat_minor": 0,
  "metadata": {
    "colab": {
      "provenance": [],
      "authorship_tag": "ABX9TyNrEYUctSYBNayDDwwyuI+w",
      "include_colab_link": true
    },
    "kernelspec": {
      "name": "python3",
      "display_name": "Python 3"
    },
    "language_info": {
      "name": "python"
    }
  },
  "cells": [
    {
      "cell_type": "markdown",
      "metadata": {
        "id": "view-in-github",
        "colab_type": "text"
      },
      "source": [
        "<a href=\"https://colab.research.google.com/github/JustinCruz4133/OOP-58001/blob/main/Lab_Activity_2.ipynb\" target=\"_parent\"><img src=\"https://colab.research.google.com/assets/colab-badge.svg\" alt=\"Open In Colab\"/></a>"
      ]
    },
    {
      "cell_type": "code",
      "execution_count": 3,
      "metadata": {
        "id": "jkpR9m5Xykdn",
        "colab": {
          "base_uri": "https://localhost:8080/"
        },
        "outputId": "c9d3b38f-1334-48ea-f85e-bf09198ee322"
      },
      "outputs": [
        {
          "output_type": "stream",
          "name": "stdout",
          "text": [
            "Enter the Radius of the Circle: 5\n",
            "\n",
            "A Circle Having a Radius of 5\n",
            "Will have an Area of 78.54\n",
            "And a Perimeter of 31.42\n"
          ]
        }
      ],
      "source": [
        "class Circle:\n",
        "  def __init__(self, radius, pi):\n",
        "    self.radius = radius\n",
        "    self.pi = pi\n",
        "\n",
        "  def Area(self):\n",
        "    return self.pi * self.radius ** 2\n",
        "\n",
        "  def Perimeter(self):\n",
        "    return 2 * self.pi * self.radius\n",
        "  \n",
        "  def Display(self):\n",
        "    print(\"\\nA Circle Having a Radius of\", self.radius)\n",
        "    print(\"Will have an Area of\", round(self.Area(), 2))\n",
        "    print(\"And a Perimeter of\", round(self.Perimeter(), 2))\n",
        "\n",
        "r = int(input(\"Enter the Radius of the Circle: \"))\n",
        "\n",
        "user = Circle(r, 3.141592653589793)\n",
        "user.Display()"
      ]
    }
  ]
}