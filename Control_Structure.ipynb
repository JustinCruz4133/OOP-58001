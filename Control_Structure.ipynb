{
  "nbformat": 4,
  "nbformat_minor": 0,
  "metadata": {
    "colab": {
      "provenance": [],
      "authorship_tag": "ABX9TyOo7CJFr5xTWMymjXxB5WCd",
      "include_colab_link": true
    },
    "kernelspec": {
      "name": "python3",
      "display_name": "Python 3"
    },
    "language_info": {
      "name": "python"
    }
  },
  "cells": [
    {
      "cell_type": "markdown",
      "metadata": {
        "id": "view-in-github",
        "colab_type": "text"
      },
      "source": [
        "<a href=\"https://colab.research.google.com/github/JustinCruz4133/OOP-58001/blob/main/Control_Structure.ipynb\" target=\"_parent\"><img src=\"https://colab.research.google.com/assets/colab-badge.svg\" alt=\"Open In Colab\"/></a>"
      ]
    },
    {
      "cell_type": "markdown",
      "source": [
        "Conditional Statement"
      ],
      "metadata": {
        "id": "JXA6MeMlDuOp"
      }
    },
    {
      "cell_type": "code",
      "execution_count": null,
      "metadata": {
        "id": "8YS_4rhwDnwM"
      },
      "outputs": [],
      "source": [
        "#If statement\n",
        "if 5 > 2:\n",
        "  print(\"Five is greater than two\")\n"
      ]
    },
    {
      "cell_type": "code",
      "source": [
        "x = input()\n",
        "y = input()\n",
        "\n",
        "if x > y:\n",
        "  print(x + \" is greater than \" + y)"
      ],
      "metadata": {
        "id": "mVd1vOuRGA95"
      },
      "execution_count": null,
      "outputs": []
    },
    {
      "cell_type": "code",
      "source": [
        "#Elif statement\n",
        "\n",
        "a = 100\n",
        "b = 100\n",
        "\n",
        "if a > b:\n",
        "  print(\"a is greater than b\")\n",
        "elif b > a:\n",
        "  print(\"b is greater than a\")"
      ],
      "metadata": {
        "id": "nF0NTj2KHkLq"
      },
      "execution_count": 11,
      "outputs": []
    },
    {
      "cell_type": "code",
      "source": [
        "#Else statement\n",
        "if a > b:\n",
        "  print(\"a is greater than b\")\n",
        "elif b > a:\n",
        "  print(\"b is greater than a\")\n",
        "else:\n",
        "  print(\"a and b are equal\")"
      ],
      "metadata": {
        "id": "j92186s5H3bB"
      },
      "execution_count": null,
      "outputs": []
    },
    {
      "cell_type": "markdown",
      "source": [
        "Nested If"
      ],
      "metadata": {
        "id": "AoMetUFLJVpy"
      }
    },
    {
      "cell_type": "code",
      "source": [
        "x = int(input())\n",
        "\n",
        "if x >= 10:\n",
        "  print(\"above 10,\")\n",
        "  if x > 20:\n",
        "    print(\"and also above 20\")\n",
        "    if x > 30:\n",
        "      print(\"and also above 30\")\n",
        "      if x > 40:\n",
        "        print(\"and also above 40\")\n",
        "        if x > 50:\n",
        "          print(\"and also above 50\")\n",
        "        else:\n",
        "          print(\"but below 50\")\n",
        "      else:\n",
        "        print(\"but below 40\")\n",
        "    else:\n",
        "      print(\"but below 30\")\n",
        "  else:\n",
        "    print(\"but below 20\")\n",
        "else:\n",
        "  print(\"below 10\")"
      ],
      "metadata": {
        "id": "SUa_p20bJYJJ"
      },
      "execution_count": null,
      "outputs": []
    },
    {
      "cell_type": "markdown",
      "source": [
        "EXAMPLE 1: Write a program that determines if the input age is qualified to vote or not. The qualifying age is 18 years old and above."
      ],
      "metadata": {
        "id": "3P1NLtzLM10o"
      }
    },
    {
      "cell_type": "code",
      "source": [
        "print(\"Enter age: \")\n",
        "age = int(input())\n",
        "\n",
        "print(\"The inputted age is \")\n",
        "if age >= 18:\n",
        "  print(\"Qualified to VOTE!\")\n",
        "else:\n",
        "  print(\"not Qualified to VOTE!\")"
      ],
      "metadata": {
        "id": "pMmXcDf2M2Go"
      },
      "execution_count": null,
      "outputs": []
    },
    {
      "cell_type": "markdown",
      "source": [
        "EXAMPLE 2: Write a program that determines if the input number is POSITIVE, NEGATIVE, or Zero"
      ],
      "metadata": {
        "id": "HyUg7jPwMoAx"
      }
    },
    {
      "cell_type": "code",
      "source": [
        "print(\"Enter a number: \")\n",
        "num = int(input())\n",
        "\n",
        "if num > 0:\n",
        "  print(\"The number is POSITIVE\")\n",
        "elif num < 0:\n",
        "  print(\"The number is NEGATIVE\")\n",
        "else:\n",
        "  print(\"The number is ZERO\")"
      ],
      "metadata": {
        "id": "HHLbmB2zM1ap"
      },
      "execution_count": null,
      "outputs": []
    },
    {
      "cell_type": "markdown",
      "source": [
        "EXAMPLE 3: Write a program to determine if the grades are: PASSED, REMEDIAL, FAILED"
      ],
      "metadata": {
        "id": "YN3MYwvlMD7C"
      }
    },
    {
      "cell_type": "code",
      "source": [
        "print(\"Enter Grade: \")\n",
        "grade = float(input())\n",
        "\n",
        "if grade >= 70:\n",
        "  print(\"PASSED!\")\n",
        "elif grade < 70 and grade >= 65:\n",
        "    print(\"REMEDIAL!\")\n",
        "elif grade < 65 and grade >= 0:\n",
        "    print(\"FAILED!\")\n",
        "else:\n",
        "  print(\"NOT ACCEPTED!\")"
      ],
      "metadata": {
        "id": "D_G1mLk4MJDQ"
      },
      "execution_count": null,
      "outputs": []
    },
    {
      "cell_type": "code",
      "source": [
        "#Alternative - Nested If\n",
        "print(\"Enter Grade: \")\n",
        "grade = float(input())\n",
        "\n",
        "if grade >= 70:\n",
        "  print(\"PASSED!\")\n",
        "elif grade < 70:\n",
        "  if grade >= 65:\n",
        "    print(\"REMEDIAL!\")\n",
        "  elif grade < 65:\n",
        "    if grade >= 0:\n",
        "      print(\"FAILED\")\n",
        "    else:\n",
        "      print(\"NOT ACCEPTED\")"
      ],
      "metadata": {
        "id": "nZEkb1ocSopZ"
      },
      "execution_count": null,
      "outputs": []
    }
  ]
}