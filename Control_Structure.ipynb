{
  "nbformat": 4,
  "nbformat_minor": 0,
  "metadata": {
    "colab": {
      "provenance": [],
      "authorship_tag": "ABX9TyNaA4UU+ABPLUbVXjL3qzLJ",
      "include_colab_link": true
    },
    "kernelspec": {
      "name": "python3",
      "display_name": "Python 3"
    },
    "language_info": {
      "name": "python"
    }
  },
  "cells": [
    {
      "cell_type": "markdown",
      "metadata": {
        "id": "view-in-github",
        "colab_type": "text"
      },
      "source": [
        "<a href=\"https://colab.research.google.com/github/JustinCruz4133/OOP-58001/blob/main/Control_Structure.ipynb\" target=\"_parent\"><img src=\"https://colab.research.google.com/assets/colab-badge.svg\" alt=\"Open In Colab\"/></a>"
      ]
    },
    {
      "cell_type": "markdown",
      "source": [
        "Conditional Statement"
      ],
      "metadata": {
        "id": "JXA6MeMlDuOp"
      }
    },
    {
      "cell_type": "code",
      "execution_count": null,
      "metadata": {
        "id": "8YS_4rhwDnwM"
      },
      "outputs": [],
      "source": [
        "#If statement\n",
        "if 5 > 2:\n",
        "  print(\"Five is greater than two\")\n"
      ]
    },
    {
      "cell_type": "code",
      "source": [
        "x = input()\n",
        "y = input()\n",
        "\n",
        "if x > y:\n",
        "  print(x + \" is greater than \" + y)"
      ],
      "metadata": {
        "id": "mVd1vOuRGA95"
      },
      "execution_count": null,
      "outputs": []
    },
    {
      "cell_type": "code",
      "source": [
        "#Elif statement\n",
        "\n",
        "a = 100\n",
        "b = 100\n",
        "\n",
        "if a > b:\n",
        "  print(\"a is greater than b\")\n",
        "elif b > a:\n",
        "  print(\"b is greater than a\")"
      ],
      "metadata": {
        "id": "nF0NTj2KHkLq"
      },
      "execution_count": 11,
      "outputs": []
    },
    {
      "cell_type": "code",
      "source": [
        "#Else statement\n",
        "if a > b:\n",
        "  print(\"a is greater than b\")\n",
        "elif b > a:\n",
        "  print(\"b is greater than a\")\n",
        "else:\n",
        "  print(\"a and b are equal\")"
      ],
      "metadata": {
        "id": "j92186s5H3bB"
      },
      "execution_count": null,
      "outputs": []
    },
    {
      "cell_type": "markdown",
      "source": [
        "Nested If"
      ],
      "metadata": {
        "id": "AoMetUFLJVpy"
      }
    },
    {
      "cell_type": "code",
      "source": [
        "x = int(input())\n",
        "\n",
        "if x >= 10:\n",
        "  print(\"above 10,\")\n",
        "  if x > 20:\n",
        "    print(\"and also above 20\")\n",
        "    if x > 30:\n",
        "      print(\"and also above 30\")\n",
        "      if x > 40:\n",
        "        print(\"and also above 40\")\n",
        "        if x > 50:\n",
        "          print(\"and also above 50\")\n",
        "        else:\n",
        "          print(\"but below 50\")\n",
        "      else:\n",
        "        print(\"but below 40\")\n",
        "    else:\n",
        "      print(\"but below 30\")\n",
        "  else:\n",
        "    print(\"but below 20\")\n",
        "else:\n",
        "  print(\"below 10\")"
      ],
      "metadata": {
        "id": "SUa_p20bJYJJ"
      },
      "execution_count": null,
      "outputs": []
    },
    {
      "cell_type": "markdown",
      "source": [
        "EXAMPLE 3: Write a program to determine if the grades are:"
      ],
      "metadata": {
        "id": "YN3MYwvlMD7C"
      }
    },
    {
      "cell_type": "markdown",
      "source": [],
      "metadata": {
        "id": "pRjyCdnQMTmB"
      }
    },
    {
      "cell_type": "code",
      "source": [],
      "metadata": {
        "id": "D_G1mLk4MJDQ"
      },
      "execution_count": null,
      "outputs": []
    },
    {
      "cell_type": "markdown",
      "source": [
        "If Statement"
      ],
      "metadata": {
        "id": "rLuDW5FRERhJ"
      }
    },
    {
      "cell_type": "code",
      "source": [
        "a = 12\n",
        "b = 100\n",
        "if b > a:\n",
        "  print(\"b is greater than a\")"
      ],
      "metadata": {
        "id": "WPfDUTQsETi5"
      },
      "execution_count": null,
      "outputs": []
    },
    {
      "cell_type": "markdown",
      "source": [
        "Elif Statement"
      ],
      "metadata": {
        "id": "0pIJH-0xET2x"
      }
    },
    {
      "cell_type": "code",
      "source": [
        "a = 12\n",
        "b = 12\n",
        "if b > a:\n",
        "  print(\"b is greater than a\")\n",
        "elif a == b:\n",
        "  print(\"a and b are equal\")"
      ],
      "metadata": {
        "id": "PhIH_yQGEUYZ"
      },
      "execution_count": null,
      "outputs": []
    },
    {
      "cell_type": "markdown",
      "source": [
        "Else Statement"
      ],
      "metadata": {
        "id": "Ij474mB2EnfJ"
      }
    },
    {
      "cell_type": "code",
      "source": [
        "a = 200\n",
        "b = 33\n",
        "if b > a:\n",
        "  print(\"b is greater than a\")\n",
        "elif a == b:\n",
        "  print(\"a and b are equal\")\n",
        "else:\n",
        "  print(\"a greater than b\")"
      ],
      "metadata": {
        "id": "9WrnfENRFCDB"
      },
      "execution_count": null,
      "outputs": []
    },
    {
      "cell_type": "markdown",
      "source": [
        "Short Hand If Statement"
      ],
      "metadata": {
        "id": "cafcvIDcGfxZ"
      }
    }
  ]
}